{
 "cells": [
  {
   "cell_type": "code",
   "execution_count": 6,
   "metadata": {},
   "outputs": [
    {
     "name": "stdout",
     "output_type": "stream",
     "text": [
      "Images saved in the directory: images\n"
     ]
    }
   ],
   "source": [
    "import os\n",
    "from pdf2image import convert_from_path\n",
    "\n",
    "PDF_file = \"pdf/Padilla Nobleza virtuosa test.pdf\"\n",
    "output_dir = \"images\" \n",
    "\n",
    "os.makedirs(output_dir, exist_ok=True)\n",
    "\n",
    "pages = convert_from_path(PDF_file)\n",
    "\n",
    "for i, page in enumerate(pages):\n",
    "    filename = os.path.join(output_dir, f\"page_{i+1}.jpg\")\n",
    "    page.save(filename, 'JPEG')\n",
    "\n",
    "print(\"Images saved in the directory:\", output_dir)\n"
   ]
  },
  {
   "cell_type": "code",
   "execution_count": 13,
   "metadata": {},
   "outputs": [
    {
     "data": {
      "text/plain": [
       "True"
      ]
     },
     "execution_count": 13,
     "metadata": {},
     "output_type": "execute_result"
    }
   ],
   "source": [
    "import cv2\n",
    "\n",
    "image = cv2.imread('images/page_12.jpg')\n",
    "result = image.copy()\n",
    "gray = cv2.cvtColor(image,cv2.COLOR_BGR2GRAY)\n",
    "thresh = cv2.threshold(gray, 0, 255, cv2.THRESH_BINARY_INV + cv2.THRESH_OTSU)[1]\n",
    "\n",
    "# Remove horizontal lines\n",
    "horizontal_kernel = cv2.getStructuringElement(cv2.MORPH_RECT, (40,1))\n",
    "remove_horizontal = cv2.morphologyEx(thresh, cv2.MORPH_OPEN, horizontal_kernel, iterations=2)\n",
    "cnts = cv2.findContours(remove_horizontal, cv2.RETR_EXTERNAL, cv2.CHAIN_APPROX_SIMPLE)\n",
    "cnts = cnts[0] if len(cnts) == 2 else cnts[1]\n",
    "for c in cnts:\n",
    "    cv2.drawContours(result, [c], -1, (255,255,255), 5)\n",
    "\n",
    "# Remove vertical lines\n",
    "vertical_kernel = cv2.getStructuringElement(cv2.MORPH_RECT, (1,40))\n",
    "remove_vertical = cv2.morphologyEx(thresh, cv2.MORPH_OPEN, vertical_kernel, iterations=2)\n",
    "cnts = cv2.findContours(remove_vertical, cv2.RETR_EXTERNAL, cv2.CHAIN_APPROX_SIMPLE)\n",
    "cnts = cnts[0] if len(cnts) == 2 else cnts[1]\n",
    "for c in cnts:\n",
    "    cv2.drawContours(result, [c], -1, (255,255,255), 5)\n",
    "\n",
    "# cv2.imshow('thresh', thresh)\n",
    "# cv2.imshow('result', result)\n",
    "cv2.imwrite('result.png', result)\n",
    "# cv2.waitKey()"
   ]
  },
  {
   "cell_type": "code",
   "execution_count": 29,
   "metadata": {},
   "outputs": [],
   "source": [
    "def cut_half(image_path):\n",
    "    img = cv2.imread(image_path)\n",
    "    height = img.shape[0]\n",
    "    width = img.shape[1]\n",
    "    width_cutoff = width // 2\n",
    "    s1 = img[:, :width_cutoff]\n",
    "    s2 = img[:, width_cutoff:]\n",
    "    return s1, s2"
   ]
  },
  {
   "cell_type": "code",
   "execution_count": 36,
   "metadata": {},
   "outputs": [],
   "source": [
    "import os\n",
    "\n",
    "lis_images = os.listdir('images')\n",
    "\n",
    "lis_images.sort(key=lambda x: int(x.split('_')[1].split('.')[0]))\n",
    "\n",
    "\n",
    "if not os.path.exists('pages'):\n",
    "    os.makedirs('pages')\n",
    "\n",
    "for image in range(len(lis_images)):\n",
    "    s1, s2 = cut_half('images/'+lis_images[image])\n",
    "    cv2.imwrite(f'pages/{image*2}.jpg', s1)\n",
    "    cv2.imwrite(f'pages/{(image*2)+1}.jpg', s2)\n"
   ]
  },
  {
   "cell_type": "code",
   "execution_count": 37,
   "metadata": {},
   "outputs": [
    {
     "name": "stdout",
     "output_type": "stream",
     "text": [
      "['page_1.jpg', 'page_2.jpg', 'page_3.jpg', 'page_4.jpg', 'page_5.jpg', 'page_6.jpg', 'page_7.jpg', 'page_8.jpg', 'page_9.jpg', 'page_10.jpg', 'page_11.jpg', 'page_12.jpg', 'page_13.jpg', 'page_14.jpg', 'page_15.jpg', 'page_16.jpg']\n"
     ]
    }
   ],
   "source": [
    "print(lis_images)"
   ]
  },
  {
   "cell_type": "code",
   "execution_count": 5,
   "metadata": {},
   "outputs": [
    {
     "name": "stdout",
     "output_type": "stream",
     "text": [
      "Horizontal Line - X: 640 Y: 1219 Width: 138 Height: 1\n",
      "Horizontal Line - X: 0 Y: 1219 Width: 92 Height: 1\n",
      "Horizontal Line - X: 87 Y: 1122 Width: 260 Height: 7\n",
      "Horizontal Line - X: 349 Y: 1119 Width: 370 Height: 8\n",
      "Horizontal Line - X: 199 Y: 1078 Width: 173 Height: 1\n",
      "Horizontal Line - X: 331 Y: 1074 Width: 239 Height: 3\n",
      "Horizontal Line - X: 95 Y: 1074 Width: 110 Height: 2\n",
      "Horizontal Line - X: 611 Y: 520 Width: 110 Height: 7\n",
      "Horizontal Line - X: 589 Y: 506 Width: 132 Height: 10\n",
      "Horizontal Line - X: 158 Y: 126 Width: 241 Height: 2\n",
      "Horizontal Line - X: 90 Y: 79 Width: 609 Height: 8\n",
      "Horizontal Line - X: 0 Y: 0 Width: 835 Height: 42\n",
      "Vertical Line - X: 81 Y: 940 Width: 2 Height: 172\n",
      "Vertical Line - X: 79 Y: 726 Width: 2 Height: 153\n",
      "Vertical Line - X: 60 Y: 724 Width: 4 Height: 185\n",
      "Vertical Line - X: 59 Y: 627 Width: 3 Height: 103\n",
      "Vertical Line - X: 703 Y: 454 Width: 1 Height: 81\n",
      "Vertical Line - X: 725 Y: 421 Width: 2 Height: 80\n",
      "Vertical Line - X: 730 Y: 404 Width: 1 Height: 96\n",
      "Vertical Line - X: 596 Y: 129 Width: 15 Height: 932\n",
      "Vertical Line - X: 705 Y: 83 Width: 16 Height: 1036\n",
      "Vertical Line - X: 820 Y: 0 Width: 15 Height: 1220\n",
      "Vertical Line - X: 0 Y: 0 Width: 197 Height: 456\n"
     ]
    },
    {
     "data": {
      "text/plain": [
       "True"
      ]
     },
     "execution_count": 5,
     "metadata": {},
     "output_type": "execute_result"
    }
   ],
   "source": [
    "import cv2\n",
    "import math\n",
    "\n",
    "image = cv2.imread('pages/1.jpg')\n",
    "\n",
    "image_height, image_width, _ = image.shape\n",
    "\n",
    "result = image.copy()\n",
    "gray = cv2.cvtColor(image, cv2.COLOR_BGR2GRAY)\n",
    "thresh = cv2.threshold(gray, 0, 255, cv2.THRESH_BINARY_INV + cv2.THRESH_OTSU)[1]\n",
    "\n",
    "# Remove horizontal lines\n",
    "horizontal_kernel = cv2.getStructuringElement(cv2.MORPH_RECT, (40, 1))\n",
    "remove_horizontal = cv2.morphologyEx(thresh, cv2.MORPH_OPEN, horizontal_kernel, iterations=2)\n",
    "cnts = cv2.findContours(remove_horizontal, cv2.RETR_EXTERNAL, cv2.CHAIN_APPROX_SIMPLE)\n",
    "cnts = cnts[0] if len(cnts) == 2 else cnts[1]\n",
    "\n",
    "dist1_0 = math.inf\n",
    "dist1_1 = math.inf\n",
    "\n",
    "final_x1 = 0\n",
    "final_y1 = 0\n",
    "final_x2 = 0\n",
    "final_y2 = 0\n",
    "\n",
    "for c in cnts:\n",
    "    x, y, w, h = cv2.boundingRect(c)\n",
    "    print(\"Horizontal Line - X:\", x, \"Y:\", y, \"Width:\", w, \"Height:\", h)\n",
    "    top_left = x, y\n",
    "    bottom_right = x + w, y + h\n",
    "\n",
    "    diff1_0 = y - image_height//2\n",
    "    diff1_1 = y+h - image_height//2\n",
    "\n",
    "\n",
    "    if diff1_0 < dist1_0:\n",
    "        dist1_0 = diff1_0\n",
    "        final_y1 = y\n",
    "    \n",
    "    elif diff1_1 < dist1_1:\n",
    "        dist1_1 = diff1_1\n",
    "        final_y2 = y+h\n",
    "\n",
    "    cv2.rectangle(result, top_left,bottom_right,(0,0, 255), 5)\n",
    "\n",
    "\n",
    "vertical_kernel = cv2.getStructuringElement(cv2.MORPH_RECT, (1, 40))\n",
    "remove_vertical = cv2.morphologyEx(thresh, cv2.MORPH_OPEN, vertical_kernel, iterations=2)\n",
    "cnts = cv2.findContours(remove_vertical, cv2.RETR_EXTERNAL, cv2.CHAIN_APPROX_SIMPLE)\n",
    "cnts = cnts[0] if len(cnts) == 2 else cnts[1]\n",
    "\n",
    "dist2_0 = math.inf\n",
    "dist2_1 = math.inf\n",
    "\n",
    "for c in cnts:\n",
    "    x, y, w, h = cv2.boundingRect(c)\n",
    "    print(\"Vertical Line - X:\", x, \"Y:\", y, \"Width:\", w, \"Height:\", h)\n",
    "    top_left = x, y\n",
    "    bottom_right = x + w, y + h\n",
    "\n",
    "    diff1 = x - image_width//2\n",
    "    diff2 = x+w - image_width//2\n",
    "\n",
    "    if diff1 < dist2_0:\n",
    "        dist2_0 = diff1\n",
    "        final_x1 = x\n",
    "\n",
    "    elif diff2 < dist2_1:\n",
    "        dist2_1 = diff2\n",
    "        final_x2 = x+w\n",
    "\n",
    "    cv2.rectangle(result, top_left,bottom_right,(0,0, 255), 5)\n",
    "\n",
    "cv2.imwrite('resusdfgslt.png', result)\n"
   ]
  }
 ],
 "metadata": {
  "kernelspec": {
   "display_name": "torch-dev",
   "language": "python",
   "name": "python3"
  },
  "language_info": {
   "codemirror_mode": {
    "name": "ipython",
    "version": 3
   },
   "file_extension": ".py",
   "mimetype": "text/x-python",
   "name": "python",
   "nbconvert_exporter": "python",
   "pygments_lexer": "ipython3",
   "version": "3.12.2"
  }
 },
 "nbformat": 4,
 "nbformat_minor": 2
}
