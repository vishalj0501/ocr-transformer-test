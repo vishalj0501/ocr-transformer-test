{
 "cells": [
  {
   "cell_type": "code",
   "execution_count": 2,
   "metadata": {},
   "outputs": [],
   "source": [
    "import tarfile \n",
    "\n",
    "file = tarfile.open('Bentham /Bentham.tbz') \n",
    "\n",
    "file.extractall('Bentham') \n",
    "\n",
    "file.close() \n"
   ]
  },
  {
   "cell_type": "code",
   "execution_count": null,
   "metadata": {},
   "outputs": [],
   "source": [
    "import cv2\n",
    "import pandas as pd\n",
    "\n",
    "master_page_par_line_list = []\n",
    "master_ocr_image = \"\"\n",
    "\n",
    "def vconcat_resize_min(im_list, interpolation=cv2.INTER_CUBIC):\n",
    "    w_min = min(im.shape[1] for im in im_list)\n",
    "    im_list_resize = [cv2.resize(im, (w_min, int(im.shape[0] * w_min / im.shape[1])), interpolation=interpolation)\n",
    "                      for im in im_list]\n",
    "    return cv2.vconcat(im_list_resize)\n",
    "\n",
    "for i, page in enumerate(pages):\n",
    "    \n",
    "    image = cv2.cvtColor(np.array(page), cv2.COLOR_RGB2GRAY)\n",
    "    _, image = cv2.threshold(image, 127, 255, cv2.THRESH_BINARY)\n",
    "    \n",
    "    data = pytesseract.image_to_data(image,config='--oem 3 --psm 6', output_type='dict')\n",
    "    \n",
    "    page_num = i + 1\n",
    "    \n",
    "    df = pd.DataFrame(data)\n",
    "    df = df[df[\"conf\"] > 0]\n",
    "    df[\"page_num\"] = page_num\n",
    "\n",
    "    page_par_line_dict = {}\n",
    "    for index, row in df.iterrows():\n",
    "        page_par_line = f\"{page_num}_{row['par_num']}_{row['line_num']}\"\n",
    "        if(page_par_line not in page_par_line_dict):\n",
    "            page_par_line_dict[page_par_line] = {\"text\": str(row[\"text\"]) + \" \", \"box\": (row['left'], row['top'], row['left'] + row['width'], row['top'] + row['height'])}\n",
    "        else:\n",
    "            page_par_line_dict[page_par_line][\"text\"] = page_par_line_dict[page_par_line][\"text\"] + str(row[\"text\"]) + \" \"\n",
    "            page_par_line_dict[page_par_line]['box'] = (min(page_par_line_dict[page_par_line]['box'][0], row['left']), \n",
    "                                                  min(page_par_line_dict[page_par_line]['box'][1], row['top']), \n",
    "                                                  max(page_par_line_dict[page_par_line]['box'][2], row['left'] + row['width']), \n",
    "                                                  max(page_par_line_dict[page_par_line]['box'][3], row['top'] + row['height']))\n",
    "\n",
    "    \n",
    "    for entry in page_par_line_dict:\n",
    "        splitted_key = entry.split('_')\n",
    "        entry_value = page_par_line_dict[entry]\n",
    "        master_page_par_line_list.append({\n",
    "            'page_number' : splitted_key[0],\n",
    "            'paragraph_number' : splitted_key[1],\n",
    "            'line_number' : splitted_key[2],\n",
    "            'entry_text' : entry_value['text'],\n",
    "            'bounding_box' : entry_value['box']\n",
    "        })\n",
    "    \n",
    "    for line in page_par_line_dict.values():\n",
    "        if line['box'] is not None:\n",
    "            cv2.rectangle(image, (line['box'][0], line['box'][1]), (line['box'][2], line['box'][3]), (0, 0, 255), 2)\n",
    "    \n",
    "    if(master_ocr_image == \"\"):\n",
    "        master_ocr_image = image\n",
    "    \n",
    "    master_ocr_image = vconcat_resize_min([master_ocr_image, image])\n",
    "\n",
    "resized_img = cv2.resize(master_ocr_image, (0, 0), fx=0.5, fy=0.5)\n",
    "cv2.imwrite('master_ocr_image.jpg', resized_img)\n",
    "\n",
    "master_ocr_df = pd.DataFrame(master_page_par_line_list)\n",
    "master_ocr_df"
   ]
  },
  {
   "cell_type": "code",
   "execution_count": null,
   "metadata": {},
   "outputs": [],
   "source": []
  }
 ],
 "metadata": {
  "kernelspec": {
   "display_name": "torch-dev",
   "language": "python",
   "name": "python3"
  },
  "language_info": {
   "codemirror_mode": {
    "name": "ipython",
    "version": 3
   },
   "file_extension": ".py",
   "mimetype": "text/x-python",
   "name": "python",
   "nbconvert_exporter": "python",
   "pygments_lexer": "ipython3",
   "version": "3.12.2"
  }
 },
 "nbformat": 4,
 "nbformat_minor": 2
}
