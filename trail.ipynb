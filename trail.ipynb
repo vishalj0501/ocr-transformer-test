{
 "cells": [
  {
   "cell_type": "code",
   "execution_count": 5,
   "metadata": {},
   "outputs": [
    {
     "name": "stdout",
     "output_type": "stream",
     "text": [
      "Collecting pdf2image\n",
      "  Using cached pdf2image-1.17.0-py3-none-any.whl.metadata (6.2 kB)\n",
      "Requirement already satisfied: pillow in /opt/homebrew/Caskroom/miniforge/base/envs/torch-dev/lib/python3.12/site-packages (from pdf2image) (10.2.0)\n",
      "Using cached pdf2image-1.17.0-py3-none-any.whl (11 kB)\n",
      "Installing collected packages: pdf2image\n",
      "Successfully installed pdf2image-1.17.0\n",
      "Note: you may need to restart the kernel to use updated packages.\n"
     ]
    }
   ],
   "source": [
    "pip install pdf2image"
   ]
  },
  {
   "cell_type": "code",
   "execution_count": 6,
   "metadata": {},
   "outputs": [
    {
     "name": "stdout",
     "output_type": "stream",
     "text": [
      "Images saved in the directory: images\n"
     ]
    }
   ],
   "source": [
    "import os\n",
    "from pdf2image import convert_from_path\n",
    "\n",
    "PDF_file = \"pdf/Padilla Nobleza virtuosa test.pdf\"\n",
    "output_dir = \"images\" \n",
    "\n",
    "os.makedirs(output_dir, exist_ok=True)\n",
    "\n",
    "pages = convert_from_path(PDF_file)\n",
    "\n",
    "for i, page in enumerate(pages):\n",
    "    filename = os.path.join(output_dir, f\"page_{i+1}.jpg\")\n",
    "    page.save(filename, 'JPEG')\n",
    "\n",
    "print(\"Images saved in the directory:\", output_dir)\n"
   ]
  },
  {
   "cell_type": "code",
   "execution_count": 8,
   "metadata": {},
   "outputs": [
    {
     "name": "stdout",
     "output_type": "stream",
     "text": [
      "Collecting opencv-python\n",
      "  Using cached opencv_python-4.9.0.80-cp37-abi3-macosx_11_0_arm64.whl.metadata (20 kB)\n",
      "Requirement already satisfied: numpy>=1.21.2 in /opt/homebrew/Caskroom/miniforge/base/envs/torch-dev/lib/python3.12/site-packages (from opencv-python) (1.26.4)\n",
      "Using cached opencv_python-4.9.0.80-cp37-abi3-macosx_11_0_arm64.whl (35.4 MB)\n",
      "Installing collected packages: opencv-python\n",
      "Successfully installed opencv-python-4.9.0.80\n",
      "Note: you may need to restart the kernel to use updated packages.\n"
     ]
    }
   ],
   "source": [
    "pip install opencv-python"
   ]
  },
  {
   "cell_type": "code",
   "execution_count": 9,
   "metadata": {},
   "outputs": [
    {
     "name": "stdout",
     "output_type": "stream",
     "text": [
      "Margin coordinates: {'top_left': (1550, 196), 'bottom_right': (1667, 1212)}\n",
      "Cropped image saved as: images/page_1_cropped.jpg\n"
     ]
    }
   ],
   "source": [
    "import cv2\n",
    "\n",
    "def find_margin_coordinates(image_path):\n",
    "    # Load the image\n",
    "    image = cv2.imread(image_path)\n",
    "\n",
    "    # Convert the image to grayscale\n",
    "    gray = cv2.cvtColor(image, cv2.COLOR_BGR2GRAY)\n",
    "\n",
    "    # Threshold the image to create a binary image\n",
    "    _, thresh = cv2.threshold(gray, 240, 255, cv2.THRESH_BINARY)\n",
    "\n",
    "    # Find contours in the binary image\n",
    "    contours, _ = cv2.findContours(thresh, cv2.RETR_EXTERNAL, cv2.CHAIN_APPROX_SIMPLE)\n",
    "\n",
    "    # Get the coordinates of the largest contour\n",
    "    largest_contour = max(contours, key=cv2.contourArea)\n",
    "    x, y, w, h = cv2.boundingRect(largest_contour)\n",
    "\n",
    "    # Calculate the coordinates of the margin\n",
    "    margin_coordinates = {\n",
    "        'top_left': (x, y),\n",
    "        'bottom_right': (x + w, y + h)\n",
    "    }\n",
    "\n",
    "    return margin_coordinates\n",
    "\n",
    "def crop_image(image_path, margin_coordinates):\n",
    "    # Load the image\n",
    "    image = cv2.imread(image_path)\n",
    "\n",
    "    # Extract margin coordinates\n",
    "    x1, y1 = margin_coordinates['top_left']\n",
    "    x2, y2 = margin_coordinates['bottom_right']\n",
    "\n",
    "    # Crop the image to remove the margins\n",
    "    cropped_image = image[y1:y2, x1:x2]\n",
    "\n",
    "    # Save the cropped image\n",
    "    cropped_image_path = image_path.replace('.jpg', '_cropped.jpg')  # Change the file extension if needed\n",
    "    cv2.imwrite(cropped_image_path, cropped_image)\n",
    "    print(\"Cropped image saved as:\", cropped_image_path)\n",
    "\n",
    "# Test the function\n",
    "image_path = 'images/page_1.jpg'\n",
    "margin_coordinates = find_margin_coordinates(image_path)\n",
    "print(\"Margin coordinates:\", margin_coordinates)\n",
    "crop_image(image_path, margin_coordinates)\n"
   ]
  },
  {
   "cell_type": "code",
   "execution_count": 11,
   "metadata": {},
   "outputs": [
    {
     "name": "stdout",
     "output_type": "stream",
     "text": [
      "Image without margins saved as: images/page_2_no_margins_no_margins.jpg\n"
     ]
    }
   ],
   "source": [
    "import cv2\n",
    "\n",
    "def find_margin_coordinates(image_path):\n",
    "    # Load the image\n",
    "    image = cv2.imread(image_path)\n",
    "\n",
    "    # Convert the image to grayscale\n",
    "    gray = cv2.cvtColor(image, cv2.COLOR_BGR2GRAY)\n",
    "\n",
    "    # Threshold the image to create a binary image\n",
    "    _, thresh = cv2.threshold(gray, 240, 255, cv2.THRESH_BINARY)\n",
    "\n",
    "    # Find contours in the binary image\n",
    "    contours, _ = cv2.findContours(thresh, cv2.RETR_EXTERNAL, cv2.CHAIN_APPROX_SIMPLE)\n",
    "\n",
    "    # Get the coordinates of the largest contour\n",
    "    largest_contour = max(contours, key=cv2.contourArea)\n",
    "    x, y, w, h = cv2.boundingRect(largest_contour)\n",
    "\n",
    "    # Calculate the coordinates of the margin\n",
    "    margin_coordinates = {\n",
    "        'top_left': (x, y),\n",
    "        'bottom_right': (x + w, y + h)\n",
    "    }\n",
    "\n",
    "    return margin_coordinates\n",
    "\n",
    "def crop_image(image_path, margin_coordinates):\n",
    "    # Load the image\n",
    "    image = cv2.imread(image_path)\n",
    "\n",
    "    # Extract margin coordinates\n",
    "    x1, y1 = margin_coordinates['top_left']\n",
    "    x2, y2 = margin_coordinates['bottom_right']\n",
    "\n",
    "    # Crop the image to remove the margins\n",
    "    cropped_image = image[y1:y2, x1:x2]\n",
    "\n",
    "    return cropped_image\n",
    "\n",
    "# Test the function\n",
    "image_path = 'images/page_2_no_margins.jpg'\n",
    "margin_coordinates = find_margin_coordinates(image_path)\n",
    "cropped_image = crop_image(image_path, margin_coordinates)\n",
    "\n",
    "# Save the cropped image\n",
    "cropped_image_path = image_path.replace('.jpg', '_no_margins.jpg')  # Change the file extension if needed\n",
    "cv2.imwrite(cropped_image_path, cropped_image)\n",
    "print(\"Image without margins saved as:\", cropped_image_path)\n"
   ]
  },
  {
   "cell_type": "code",
   "execution_count": 2,
   "metadata": {},
   "outputs": [
    {
     "name": "stdout",
     "output_type": "stream",
     "text": [
      "Collecting ultralyticsplus\n",
      "  Downloading ultralyticsplus-0.1.0-py3-none-any.whl.metadata (2.9 kB)\n",
      "Collecting huggingface-hub>=0.12.0 (from ultralyticsplus)\n",
      "  Downloading huggingface_hub-0.21.3-py3-none-any.whl.metadata (13 kB)\n",
      "Collecting fire (from ultralyticsplus)\n",
      "  Using cached fire-0.5.0.tar.gz (88 kB)\n",
      "  Preparing metadata (setup.py) ... \u001b[?25ldone\n",
      "\u001b[?25hCollecting ultralytics<8.1.0,>=8.0.225 (from ultralyticsplus)\n",
      "  Downloading ultralytics-8.0.239-py3-none-any.whl.metadata (39 kB)\n",
      "Collecting sahi<0.12.0,>=0.11.11 (from ultralyticsplus)\n",
      "  Downloading sahi-0.11.15-py3-none-any.whl.metadata (15 kB)\n",
      "Requirement already satisfied: pandas in /opt/homebrew/Caskroom/miniforge/base/envs/torch-dev/lib/python3.12/site-packages (from ultralyticsplus) (2.2.1)\n",
      "Collecting roboflow>=0.2.32 (from ultralyticsplus)\n",
      "  Downloading roboflow-1.1.21-py3-none-any.whl.metadata (9.3 kB)\n",
      "Collecting protobuf<3.21,>=3.20 (from ultralyticsplus)\n",
      "  Downloading protobuf-3.20.3-py2.py3-none-any.whl.metadata (720 bytes)\n",
      "Requirement already satisfied: filelock in /opt/homebrew/Caskroom/miniforge/base/envs/torch-dev/lib/python3.12/site-packages (from huggingface-hub>=0.12.0->ultralyticsplus) (3.13.1)\n",
      "Requirement already satisfied: fsspec>=2023.5.0 in /opt/homebrew/Caskroom/miniforge/base/envs/torch-dev/lib/python3.12/site-packages (from huggingface-hub>=0.12.0->ultralyticsplus) (2024.2.0)\n",
      "Requirement already satisfied: requests in /opt/homebrew/Caskroom/miniforge/base/envs/torch-dev/lib/python3.12/site-packages (from huggingface-hub>=0.12.0->ultralyticsplus) (2.31.0)\n",
      "Collecting tqdm>=4.42.1 (from huggingface-hub>=0.12.0->ultralyticsplus)\n",
      "  Using cached tqdm-4.66.2-py3-none-any.whl.metadata (57 kB)\n",
      "Collecting pyyaml>=5.1 (from huggingface-hub>=0.12.0->ultralyticsplus)\n",
      "  Downloading PyYAML-6.0.1-cp312-cp312-macosx_11_0_arm64.whl.metadata (2.1 kB)\n",
      "Requirement already satisfied: typing-extensions>=3.7.4.3 in /opt/homebrew/Caskroom/miniforge/base/envs/torch-dev/lib/python3.12/site-packages (from huggingface-hub>=0.12.0->ultralyticsplus) (4.10.0)\n",
      "Requirement already satisfied: packaging>=20.9 in /opt/homebrew/Caskroom/miniforge/base/envs/torch-dev/lib/python3.12/site-packages (from huggingface-hub>=0.12.0->ultralyticsplus) (23.2)\n",
      "Collecting certifi==2023.7.22 (from roboflow>=0.2.32->ultralyticsplus)\n",
      "  Using cached certifi-2023.7.22-py3-none-any.whl.metadata (2.2 kB)\n",
      "Collecting chardet==4.0.0 (from roboflow>=0.2.32->ultralyticsplus)\n",
      "  Downloading chardet-4.0.0-py2.py3-none-any.whl.metadata (3.5 kB)\n",
      "Collecting cycler==0.10.0 (from roboflow>=0.2.32->ultralyticsplus)\n",
      "  Downloading cycler-0.10.0-py2.py3-none-any.whl (6.5 kB)\n",
      "Collecting idna==2.10 (from roboflow>=0.2.32->ultralyticsplus)\n",
      "  Downloading idna-2.10-py2.py3-none-any.whl.metadata (9.1 kB)\n",
      "Requirement already satisfied: kiwisolver>=1.3.1 in /opt/homebrew/Caskroom/miniforge/base/envs/torch-dev/lib/python3.12/site-packages (from roboflow>=0.2.32->ultralyticsplus) (1.4.5)\n",
      "Requirement already satisfied: matplotlib in /opt/homebrew/Caskroom/miniforge/base/envs/torch-dev/lib/python3.12/site-packages (from roboflow>=0.2.32->ultralyticsplus) (3.8.3)\n",
      "Requirement already satisfied: numpy>=1.18.5 in /opt/homebrew/Caskroom/miniforge/base/envs/torch-dev/lib/python3.12/site-packages (from roboflow>=0.2.32->ultralyticsplus) (1.26.4)\n",
      "Collecting opencv-python-headless==4.8.0.74 (from roboflow>=0.2.32->ultralyticsplus)\n",
      "  Downloading opencv_python_headless-4.8.0.74-cp37-abi3-macosx_11_0_arm64.whl.metadata (19 kB)\n",
      "Requirement already satisfied: Pillow>=7.1.2 in /opt/homebrew/Caskroom/miniforge/base/envs/torch-dev/lib/python3.12/site-packages (from roboflow>=0.2.32->ultralyticsplus) (10.2.0)\n",
      "Requirement already satisfied: python-dateutil in /opt/homebrew/Caskroom/miniforge/base/envs/torch-dev/lib/python3.12/site-packages (from roboflow>=0.2.32->ultralyticsplus) (2.8.2)\n",
      "Collecting python-dotenv (from roboflow>=0.2.32->ultralyticsplus)\n",
      "  Downloading python_dotenv-1.0.1-py3-none-any.whl.metadata (23 kB)\n",
      "Requirement already satisfied: six in /opt/homebrew/Caskroom/miniforge/base/envs/torch-dev/lib/python3.12/site-packages (from roboflow>=0.2.32->ultralyticsplus) (1.16.0)\n",
      "Collecting supervision (from roboflow>=0.2.32->ultralyticsplus)\n",
      "  Downloading supervision-0.18.0-py3-none-any.whl.metadata (12 kB)\n",
      "Requirement already satisfied: urllib3>=1.26.6 in /opt/homebrew/Caskroom/miniforge/base/envs/torch-dev/lib/python3.12/site-packages (from roboflow>=0.2.32->ultralyticsplus) (2.2.1)\n",
      "Collecting requests-toolbelt (from roboflow>=0.2.32->ultralyticsplus)\n",
      "  Downloading requests_toolbelt-1.0.0-py2.py3-none-any.whl.metadata (14 kB)\n",
      "Collecting python-magic (from roboflow>=0.2.32->ultralyticsplus)\n",
      "  Downloading python_magic-0.4.27-py2.py3-none-any.whl.metadata (5.8 kB)\n",
      "Collecting opencv-python<=4.8 (from sahi<0.12.0,>=0.11.11->ultralyticsplus)\n",
      "  Downloading opencv_python-4.7.0.72-cp37-abi3-macosx_11_0_arm64.whl.metadata (18 kB)\n",
      "Collecting shapely>=1.8.0 (from sahi<0.12.0,>=0.11.11->ultralyticsplus)\n",
      "  Downloading shapely-2.0.3-cp312-cp312-macosx_11_0_arm64.whl.metadata (7.0 kB)\n",
      "Collecting pybboxes==0.1.6 (from sahi<0.12.0,>=0.11.11->ultralyticsplus)\n",
      "  Downloading pybboxes-0.1.6-py3-none-any.whl.metadata (9.9 kB)\n",
      "Collecting terminaltables (from sahi<0.12.0,>=0.11.11->ultralyticsplus)\n",
      "  Downloading terminaltables-3.1.10-py2.py3-none-any.whl.metadata (3.5 kB)\n",
      "Requirement already satisfied: click in /opt/homebrew/Caskroom/miniforge/base/envs/torch-dev/lib/python3.12/site-packages (from sahi<0.12.0,>=0.11.11->ultralyticsplus) (8.1.7)\n",
      "Requirement already satisfied: scipy>=1.4.1 in /opt/homebrew/Caskroom/miniforge/base/envs/torch-dev/lib/python3.12/site-packages (from ultralytics<8.1.0,>=8.0.225->ultralyticsplus) (1.12.0)\n",
      "Requirement already satisfied: torch>=1.8.0 in /opt/homebrew/Caskroom/miniforge/base/envs/torch-dev/lib/python3.12/site-packages (from ultralytics<8.1.0,>=8.0.225->ultralyticsplus) (2.2.1)\n",
      "Collecting torchvision>=0.9.0 (from ultralytics<8.1.0,>=8.0.225->ultralyticsplus)\n",
      "  Downloading torchvision-0.17.1-cp312-cp312-macosx_11_0_arm64.whl.metadata (6.6 kB)\n",
      "Requirement already satisfied: psutil in /opt/homebrew/Caskroom/miniforge/base/envs/torch-dev/lib/python3.12/site-packages (from ultralytics<8.1.0,>=8.0.225->ultralyticsplus) (5.9.8)\n",
      "Collecting py-cpuinfo (from ultralytics<8.1.0,>=8.0.225->ultralyticsplus)\n",
      "  Downloading py_cpuinfo-9.0.0-py3-none-any.whl.metadata (794 bytes)\n",
      "Collecting thop>=0.1.1 (from ultralytics<8.1.0,>=8.0.225->ultralyticsplus)\n",
      "  Downloading thop-0.1.1.post2209072238-py3-none-any.whl.metadata (2.7 kB)\n",
      "Collecting seaborn>=0.11.0 (from ultralytics<8.1.0,>=8.0.225->ultralyticsplus)\n",
      "  Using cached seaborn-0.13.2-py3-none-any.whl.metadata (5.4 kB)\n",
      "Collecting hub-sdk>=0.0.2 (from ultralytics<8.1.0,>=8.0.225->ultralyticsplus)\n",
      "  Downloading hub_sdk-0.0.4-py3-none-any.whl.metadata (9.2 kB)\n",
      "Requirement already satisfied: pytz>=2020.1 in /opt/homebrew/Caskroom/miniforge/base/envs/torch-dev/lib/python3.12/site-packages (from pandas->ultralyticsplus) (2024.1)\n",
      "Requirement already satisfied: tzdata>=2022.7 in /opt/homebrew/Caskroom/miniforge/base/envs/torch-dev/lib/python3.12/site-packages (from pandas->ultralyticsplus) (2024.1)\n",
      "Collecting termcolor (from fire->ultralyticsplus)\n",
      "  Using cached termcolor-2.4.0-py3-none-any.whl.metadata (6.1 kB)\n",
      "Requirement already satisfied: contourpy>=1.0.1 in /opt/homebrew/Caskroom/miniforge/base/envs/torch-dev/lib/python3.12/site-packages (from matplotlib->roboflow>=0.2.32->ultralyticsplus) (1.2.0)\n",
      "Requirement already satisfied: fonttools>=4.22.0 in /opt/homebrew/Caskroom/miniforge/base/envs/torch-dev/lib/python3.12/site-packages (from matplotlib->roboflow>=0.2.32->ultralyticsplus) (4.49.0)\n",
      "Requirement already satisfied: pyparsing>=2.3.1 in /opt/homebrew/Caskroom/miniforge/base/envs/torch-dev/lib/python3.12/site-packages (from matplotlib->roboflow>=0.2.32->ultralyticsplus) (3.1.1)\n",
      "Requirement already satisfied: charset-normalizer<4,>=2 in /opt/homebrew/Caskroom/miniforge/base/envs/torch-dev/lib/python3.12/site-packages (from requests->huggingface-hub>=0.12.0->ultralyticsplus) (3.3.2)\n",
      "Requirement already satisfied: sympy in /opt/homebrew/Caskroom/miniforge/base/envs/torch-dev/lib/python3.12/site-packages (from torch>=1.8.0->ultralytics<8.1.0,>=8.0.225->ultralyticsplus) (1.12)\n",
      "Requirement already satisfied: networkx in /opt/homebrew/Caskroom/miniforge/base/envs/torch-dev/lib/python3.12/site-packages (from torch>=1.8.0->ultralytics<8.1.0,>=8.0.225->ultralyticsplus) (3.2.1)\n",
      "Requirement already satisfied: jinja2 in /opt/homebrew/Caskroom/miniforge/base/envs/torch-dev/lib/python3.12/site-packages (from torch>=1.8.0->ultralytics<8.1.0,>=8.0.225->ultralyticsplus) (3.1.3)\n",
      "Collecting defusedxml<0.8.0,>=0.7.1 (from supervision->roboflow>=0.2.32->ultralyticsplus)\n",
      "  Downloading defusedxml-0.7.1-py2.py3-none-any.whl.metadata (32 kB)\n",
      "Requirement already satisfied: MarkupSafe>=2.0 in /opt/homebrew/Caskroom/miniforge/base/envs/torch-dev/lib/python3.12/site-packages (from jinja2->torch>=1.8.0->ultralytics<8.1.0,>=8.0.225->ultralyticsplus) (2.1.5)\n",
      "Requirement already satisfied: mpmath>=0.19 in /opt/homebrew/Caskroom/miniforge/base/envs/torch-dev/lib/python3.12/site-packages (from sympy->torch>=1.8.0->ultralytics<8.1.0,>=8.0.225->ultralyticsplus) (1.3.0)\n",
      "Downloading ultralyticsplus-0.1.0-py3-none-any.whl (23 kB)\n",
      "Downloading huggingface_hub-0.21.3-py3-none-any.whl (346 kB)\n",
      "\u001b[2K   \u001b[90m━━━━━━━━━━━━━━━━━━━━━━━━━━━━━━━━━━━━━━━━\u001b[0m \u001b[32m346.2/346.2 kB\u001b[0m \u001b[31m1.9 MB/s\u001b[0m eta \u001b[36m0:00:00\u001b[0ma \u001b[36m0:00:01\u001b[0m\n",
      "\u001b[?25hDownloading protobuf-3.20.3-py2.py3-none-any.whl (162 kB)\n",
      "\u001b[2K   \u001b[90m━━━━━━━━━━━━━━━━━━━━━━━━━━━━━━━━━━━━━━━━\u001b[0m \u001b[32m162.1/162.1 kB\u001b[0m \u001b[31m1.9 MB/s\u001b[0m eta \u001b[36m0:00:00\u001b[0ma \u001b[36m0:00:01\u001b[0m\n",
      "\u001b[?25hDownloading roboflow-1.1.21-py3-none-any.whl (70 kB)\n",
      "\u001b[2K   \u001b[90m━━━━━━━━━━━━━━━━━━━━━━━━━━━━━━━━━━━━━━━━\u001b[0m \u001b[32m70.2/70.2 kB\u001b[0m \u001b[31m4.9 MB/s\u001b[0m eta \u001b[36m0:00:00\u001b[0m\n",
      "\u001b[?25hUsing cached certifi-2023.7.22-py3-none-any.whl (158 kB)\n",
      "Downloading chardet-4.0.0-py2.py3-none-any.whl (178 kB)\n",
      "\u001b[2K   \u001b[90m━━━━━━━━━━━━━━━━━━━━━━━━━━━━━━━━━━━━━━━━\u001b[0m \u001b[32m178.7/178.7 kB\u001b[0m \u001b[31m2.0 MB/s\u001b[0m eta \u001b[36m0:00:00\u001b[0ma \u001b[36m0:00:01\u001b[0m\n",
      "\u001b[?25hDownloading idna-2.10-py2.py3-none-any.whl (58 kB)\n",
      "\u001b[2K   \u001b[90m━━━━━━━━━━━━━━━━━━━━━━━━━━━━━━━━━━━━━━━━\u001b[0m \u001b[32m58.8/58.8 kB\u001b[0m \u001b[31m5.3 MB/s\u001b[0m eta \u001b[36m0:00:00\u001b[0m\n",
      "\u001b[?25hDownloading opencv_python_headless-4.8.0.74-cp37-abi3-macosx_11_0_arm64.whl (33.1 MB)\n",
      "\u001b[2K   \u001b[90m━━━━━━━━━━━━━━━━━━━━━━━━━━━━━━━━━━━━━━━━\u001b[0m \u001b[32m33.1/33.1 MB\u001b[0m \u001b[31m1.2 MB/s\u001b[0m eta \u001b[36m0:00:00\u001b[0m00:01\u001b[0m00:01\u001b[0m\n",
      "\u001b[?25hDownloading sahi-0.11.15-py3-none-any.whl (105 kB)\n",
      "\u001b[2K   \u001b[90m━━━━━━━━━━━━━━━━━━━━━━━━━━━━━━━━━━━━━━━━\u001b[0m \u001b[32m105.4/105.4 kB\u001b[0m \u001b[31m5.8 MB/s\u001b[0m eta \u001b[36m0:00:00\u001b[0m\n",
      "\u001b[?25hDownloading pybboxes-0.1.6-py3-none-any.whl (24 kB)\n",
      "Downloading ultralytics-8.0.239-py3-none-any.whl (699 kB)\n",
      "\u001b[2K   \u001b[90m━━━━━━━━━━━━━━━━━━━━━━━━━━━━━━━━━━━━━━━━\u001b[0m \u001b[32m699.1/699.1 kB\u001b[0m \u001b[31m1.5 MB/s\u001b[0m eta \u001b[36m0:00:00\u001b[0ma \u001b[36m0:00:01\u001b[0mm\n",
      "\u001b[?25hDownloading hub_sdk-0.0.4-py3-none-any.whl (40 kB)\n",
      "\u001b[2K   \u001b[90m━━━━━━━━━━━━━━━━━━━━━━━━━━━━━━━━━━━━━━━━\u001b[0m \u001b[32m40.9/40.9 kB\u001b[0m \u001b[31m2.1 MB/s\u001b[0m eta \u001b[36m0:00:00\u001b[0m\n",
      "\u001b[?25hDownloading opencv_python-4.7.0.72-cp37-abi3-macosx_11_0_arm64.whl (32.6 MB)\n",
      "\u001b[2K   \u001b[90m━━━━━━━━━━━━━━━━━━━━━━━━━━━━━━━━━━━━━━━━\u001b[0m \u001b[32m32.6/32.6 MB\u001b[0m \u001b[31m1.2 MB/s\u001b[0m eta \u001b[36m0:00:00\u001b[0m00:01\u001b[0m00:01\u001b[0m\n",
      "\u001b[?25hDownloading PyYAML-6.0.1-cp312-cp312-macosx_11_0_arm64.whl (165 kB)\n",
      "\u001b[2K   \u001b[90m━━━━━━━━━━━━━━━━━━━━━━━━━━━━━━━━━━━━━━━━\u001b[0m \u001b[32m165.6/165.6 kB\u001b[0m \u001b[31m1.8 MB/s\u001b[0m eta \u001b[36m0:00:00\u001b[0m00:01\u001b[0m00:01\u001b[0m\n",
      "\u001b[?25hUsing cached seaborn-0.13.2-py3-none-any.whl (294 kB)\n",
      "Downloading shapely-2.0.3-cp312-cp312-macosx_11_0_arm64.whl (1.3 MB)\n",
      "\u001b[2K   \u001b[90m━━━━━━━━━━━━━━━━━━━━━━━━━━━━━━━━━━━━━━━━\u001b[0m \u001b[32m1.3/1.3 MB\u001b[0m \u001b[31m1.3 MB/s\u001b[0m eta \u001b[36m0:00:00\u001b[0m00:01\u001b[0m00:01\u001b[0mm\n",
      "\u001b[?25hDownloading thop-0.1.1.post2209072238-py3-none-any.whl (15 kB)\n",
      "Downloading torchvision-0.17.1-cp312-cp312-macosx_11_0_arm64.whl (1.6 MB)\n",
      "\u001b[2K   \u001b[90m━━━━━━━━━━━━━━━━━━━━━━━━━━━━━━━━━━━━━━━━\u001b[0m \u001b[32m1.6/1.6 MB\u001b[0m \u001b[31m1.3 MB/s\u001b[0m eta \u001b[36m0:00:00\u001b[0m00:01\u001b[0m00:01\u001b[0mm\n",
      "\u001b[?25hUsing cached tqdm-4.66.2-py3-none-any.whl (78 kB)\n",
      "Downloading py_cpuinfo-9.0.0-py3-none-any.whl (22 kB)\n",
      "Downloading python_dotenv-1.0.1-py3-none-any.whl (19 kB)\n",
      "Using cached python_magic-0.4.27-py2.py3-none-any.whl (13 kB)\n",
      "Downloading requests_toolbelt-1.0.0-py2.py3-none-any.whl (54 kB)\n",
      "\u001b[2K   \u001b[90m━━━━━━━━━━━━━━━━━━━━━━━━━━━━━━━━━━━━━━━━\u001b[0m \u001b[32m54.5/54.5 kB\u001b[0m \u001b[31m2.8 MB/s\u001b[0m eta \u001b[36m0:00:00\u001b[0m\n",
      "\u001b[?25hDownloading supervision-0.18.0-py3-none-any.whl (86 kB)\n",
      "\u001b[2K   \u001b[90m━━━━━━━━━━━━━━━━━━━━━━━━━━━━━━━━━━━━━━━━\u001b[0m \u001b[32m86.7/86.7 kB\u001b[0m \u001b[31m7.6 MB/s\u001b[0m eta \u001b[36m0:00:00\u001b[0m\n",
      "\u001b[?25hUsing cached termcolor-2.4.0-py3-none-any.whl (7.7 kB)\n",
      "Downloading terminaltables-3.1.10-py2.py3-none-any.whl (15 kB)\n",
      "Downloading defusedxml-0.7.1-py2.py3-none-any.whl (25 kB)\n",
      "Building wheels for collected packages: fire\n",
      "  Building wheel for fire (setup.py) ... \u001b[?25ldone\n",
      "\u001b[?25h  Created wheel for fire: filename=fire-0.5.0-py2.py3-none-any.whl size=116934 sha256=6b76dcafc9c53d2c3f78aad9a2118f9e3f0ce93d39e0c874e80eacc41fdec7a6\n",
      "  Stored in directory: /Users/vishal/Library/Caches/pip/wheels/ef/b7/5a/429bf9270449b3fbca3c36b235c97f5ad1585f95cd8d9bb1ab\n",
      "Successfully built fire\n",
      "Installing collected packages: py-cpuinfo, tqdm, terminaltables, termcolor, shapely, pyyaml, python-magic, python-dotenv, pybboxes, protobuf, opencv-python-headless, opencv-python, idna, defusedxml, cycler, chardet, certifi, fire, torchvision, thop, supervision, seaborn, sahi, requests-toolbelt, huggingface-hub, hub-sdk, ultralytics, roboflow, ultralyticsplus\n",
      "  Attempting uninstall: opencv-python\n",
      "    Found existing installation: opencv-python 4.9.0.80\n",
      "    Uninstalling opencv-python-4.9.0.80:\n",
      "      Successfully uninstalled opencv-python-4.9.0.80\n",
      "  Attempting uninstall: idna\n",
      "    Found existing installation: idna 3.6\n",
      "    Uninstalling idna-3.6:\n",
      "      Successfully uninstalled idna-3.6\n",
      "  Attempting uninstall: cycler\n",
      "    Found existing installation: cycler 0.12.1\n",
      "    Uninstalling cycler-0.12.1:\n",
      "      Successfully uninstalled cycler-0.12.1\n",
      "  Attempting uninstall: certifi\n",
      "    Found existing installation: certifi 2024.2.2\n",
      "    Uninstalling certifi-2024.2.2:\n",
      "      Successfully uninstalled certifi-2024.2.2\n",
      "Successfully installed certifi-2023.7.22 chardet-4.0.0 cycler-0.10.0 defusedxml-0.7.1 fire-0.5.0 hub-sdk-0.0.4 huggingface-hub-0.21.3 idna-2.10 opencv-python-4.7.0.72 opencv-python-headless-4.8.0.74 protobuf-3.20.3 py-cpuinfo-9.0.0 pybboxes-0.1.6 python-dotenv-1.0.1 python-magic-0.4.27 pyyaml-6.0.1 requests-toolbelt-1.0.0 roboflow-1.1.21 sahi-0.11.15 seaborn-0.13.2 shapely-2.0.3 supervision-0.18.0 termcolor-2.4.0 terminaltables-3.1.10 thop-0.1.1.post2209072238 torchvision-0.17.1 tqdm-4.66.2 ultralytics-8.0.239 ultralyticsplus-0.1.0\n",
      "Note: you may need to restart the kernel to use updated packages.\n"
     ]
    }
   ],
   "source": [
    "pip install ultralyticsplus"
   ]
  },
  {
   "cell_type": "code",
   "execution_count": 5,
   "metadata": {},
   "outputs": [
    {
     "name": "stdout",
     "output_type": "stream",
     "text": [
      "\n",
      "0: 480x640 (no detections), 239.4ms\n",
      "Speed: 2.4ms preprocess, 239.4ms inference, 0.4ms postprocess per image at shape (1, 3, 480, 640)\n",
      "[]\n"
     ]
    },
    {
     "ename": "error",
     "evalue": "OpenCV(4.7.0) :-1: error: (-5:Bad argument) in function 'imwrite'\n> Overload resolution failed:\n>  - imwrite() missing required argument 'img' (pos 2)\n>  - imwrite() missing required argument 'img' (pos 2)\n",
     "output_type": "error",
     "traceback": [
      "\u001b[0;31m---------------------------------------------------------------------------\u001b[0m",
      "\u001b[0;31merror\u001b[0m                                     Traceback (most recent call last)",
      "Cell \u001b[0;32mIn[5], line 29\u001b[0m\n\u001b[1;32m     25\u001b[0m \u001b[38;5;66;03m# output_image = render_result(image, results_model2_out)\u001b[39;00m\n\u001b[1;32m     26\u001b[0m output_image_path \u001b[38;5;241m=\u001b[39m os\u001b[38;5;241m.\u001b[39mpath\u001b[38;5;241m.\u001b[39mjoin(output_dir, \u001b[38;5;124m\"\u001b[39m\u001b[38;5;124moutput_image.jpg\u001b[39m\u001b[38;5;124m\"\u001b[39m)\n\u001b[0;32m---> 29\u001b[0m \u001b[43mcv2\u001b[49m\u001b[38;5;241;43m.\u001b[39;49m\u001b[43mimwrite\u001b[49m\u001b[43m(\u001b[49m\u001b[43moutput_image_path\u001b[49m\u001b[43m)\u001b[49m\n\u001b[1;32m     30\u001b[0m \u001b[38;5;28mprint\u001b[39m(\u001b[38;5;124m\"\u001b[39m\u001b[38;5;124mOutput image saved as:\u001b[39m\u001b[38;5;124m\"\u001b[39m, output_image_path)\n",
      "\u001b[0;31merror\u001b[0m: OpenCV(4.7.0) :-1: error: (-5:Bad argument) in function 'imwrite'\n> Overload resolution failed:\n>  - imwrite() missing required argument 'img' (pos 2)\n>  - imwrite() missing required argument 'img' (pos 2)\n"
     ]
    }
   ],
   "source": [
    "from ultralyticsplus import YOLO, render_result\n",
    "import os\n",
    "import cv2\n",
    "import json\n",
    "\n",
    "model2 = YOLO(\"keremberke/yolov8m-table-extraction\")\n",
    "model2.overrides[\"conf\"] = 0.25\n",
    "model2.overrides[\"iou\"] = 0.45\n",
    "model2.overrides[\"agnostic_nms\"] = False\n",
    "model2.overrides[\"max_det\"] = 1000\n",
    "\n",
    "image_path = \"images/page_4.jpg\"\n",
    "\n",
    "image = cv2.imread(image_path)\n",
    "\n",
    "results_model2 = model2.predict(image)\n",
    "results_model2_out = results_model2[0].boxes.xyxy.cpu().numpy().tolist()\n",
    "\n",
    "\n",
    "print(json.dumps(results_model2_out, indent=2))\n",
    "\n",
    "output_dir = \"output\"\n",
    "os.makedirs(output_dir, exist_ok=True)\n",
    "\n",
    "# output_image = render_result(image, results_model2_out)\n",
    "output_image_path = os.path.join(output_dir, \"output_image.jpg\")\n",
    "\n",
    "\n",
    "cv2.imwrite(output_image_path)\n",
    "print(\"Output image saved as:\", output_image_path)\n"
   ]
  },
  {
   "cell_type": "code",
   "execution_count": 6,
   "metadata": {},
   "outputs": [
    {
     "name": "stdout",
     "output_type": "stream",
     "text": [
      "Collecting bordercrop\n",
      "  Downloading bordercrop-1.0.0-py3-none-any.whl.metadata (7.1 kB)\n",
      "Requirement already satisfied: Pillow in /opt/homebrew/Caskroom/miniforge/base/envs/torch-dev/lib/python3.12/site-packages (from bordercrop) (10.2.0)\n",
      "Downloading bordercrop-1.0.0-py3-none-any.whl (9.7 kB)\n",
      "Installing collected packages: bordercrop\n",
      "Successfully installed bordercrop-1.0.0\n",
      "Note: you may need to restart the kernel to use updated packages.\n"
     ]
    }
   ],
   "source": [
    "pip install bordercrop"
   ]
  },
  {
   "cell_type": "code",
   "execution_count": 7,
   "metadata": {},
   "outputs": [],
   "source": [
    "import bordercrop\n",
    "\n",
    "cropped_image = bordercrop.crop(\"images/page_1.jpg\")\n",
    "cropped_image.show() # show the cropped image"
   ]
  },
  {
   "cell_type": "code",
   "execution_count": 8,
   "metadata": {},
   "outputs": [
    {
     "data": {
      "text/plain": [
       "True"
      ]
     },
     "execution_count": 8,
     "metadata": {},
     "output_type": "execute_result"
    }
   ],
   "source": [
    "import cv2\n",
    "import numpy as np\n",
    "\n",
    "image = cv2.imread(\"images/page_1.jpg\")\n",
    "gray = cv2.cvtColor(image, cv2.COLOR_BGR2GRAY)\n",
    "mask = np.zeros(image.shape, dtype=np.uint8)\n",
    "\n",
    "cnts = cv2.findContours(gray, cv2.RETR_EXTERNAL, cv2.CHAIN_APPROX_SIMPLE)\n",
    "cnts = cnts[0] if len(cnts) == 2 else cnts[1]\n",
    "\n",
    "cv2.fillPoly(mask, cnts, [255,255,255])\n",
    "mask = 255 - mask\n",
    "result = cv2.bitwise_or(image, mask)\n",
    "\n",
    "cv2.imwrite('mask.jpg', mask)\n",
    "cv2.imwrite('result.jpg', result)"
   ]
  },
  {
   "cell_type": "code",
   "execution_count": 6,
   "metadata": {},
   "outputs": [
    {
     "data": {
      "text/plain": [
       "True"
      ]
     },
     "execution_count": 6,
     "metadata": {},
     "output_type": "execute_result"
    }
   ],
   "source": [
    "import cv2\n",
    "import numpy as np\n",
    "\n",
    "image = cv2.imread('images/page_1.jpg', cv2.IMREAD_GRAYSCALE)\n",
    "\n",
    "sobel_x = cv2.Sobel(image, cv2.CV_64F, 1, 0, ksize=3)\n",
    "sobel_y = cv2.Sobel(image, cv2.CV_64F, 0, 1, ksize=3)\n",
    "\n",
    "sobel_combined = cv2.magnitude(sobel_x, sobel_y)\n",
    "\n",
    "sobel_normalized = cv2.normalize(sobel_combined, None, 0, 255, cv2.NORM_MINMAX, cv2.CV_8U)\n",
    "\n",
    "cv2.imwrite('output_image.jpg', sobel_normalized)"
   ]
  },
  {
   "cell_type": "code",
   "execution_count": 8,
   "metadata": {},
   "outputs": [
    {
     "data": {
      "text/plain": [
       "True"
      ]
     },
     "execution_count": 8,
     "metadata": {},
     "output_type": "execute_result"
    }
   ],
   "source": [
    "import cv2\n",
    "import numpy as np\n",
    "\n",
    "# Load the image\n",
    "image = cv2.imread('images/page_1.jpg')\n",
    "\n",
    "# Convert the image to grayscale\n",
    "gray = cv2.cvtColor(image, cv2.COLOR_BGR2GRAY)\n",
    "\n",
    "# Threshold the image to get a binary image\n",
    "_, binary = cv2.threshold(gray, 0, 255, cv2.THRESH_BINARY_INV + cv2.THRESH_OTSU)\n",
    "\n",
    "# Find the contours in the binary image\n",
    "contours, _ = cv2.findContours(binary, cv2.RETR_EXTERNAL, cv2.CHAIN_APPROX_SIMPLE)\n",
    "\n",
    "# Loop through the contours and draw a rectangle around each one\n",
    "for contour in contours:\n",
    "    x, y, w, h = cv2.boundingRect(contour)\n",
    "    cv2.rectangle(image, (x, y), (x + w, y + h), (255, 255, 255), -1)\n",
    "\n",
    "# Save the image with the borders removed\n",
    "cv2.imwrite('image_without_borders.jpg', image)"
   ]
  },
  {
   "cell_type": "code",
   "execution_count": 12,
   "metadata": {},
   "outputs": [
    {
     "data": {
      "text/plain": [
       "True"
      ]
     },
     "execution_count": 12,
     "metadata": {},
     "output_type": "execute_result"
    }
   ],
   "source": [
    "im = cv2.imread(\"images/page_13.jpg\")\n",
    "h,w,d = im.shape\n",
    "#left limit\n",
    "for i in range(w):\n",
    "    if np.sum(im[:,i,:]) > 0:\n",
    "        break\n",
    "#right limit\n",
    "for j in range(w-1,0,-1):\n",
    "    if np.sum(im[:,j,:]) > 0:\n",
    "        break\n",
    "\n",
    "cropped = im[:,i:j+1,:].copy()\n",
    "\n",
    "cv2.imwrite('image_without_bordfdders.jpg', cropped)"
   ]
  },
  {
   "cell_type": "code",
   "execution_count": 13,
   "metadata": {},
   "outputs": [
    {
     "data": {
      "text/plain": [
       "True"
      ]
     },
     "execution_count": 13,
     "metadata": {},
     "output_type": "execute_result"
    }
   ],
   "source": [
    "import cv2\n",
    "\n",
    "image = cv2.imread('images/page_12.jpg')\n",
    "result = image.copy()\n",
    "gray = cv2.cvtColor(image,cv2.COLOR_BGR2GRAY)\n",
    "thresh = cv2.threshold(gray, 0, 255, cv2.THRESH_BINARY_INV + cv2.THRESH_OTSU)[1]\n",
    "\n",
    "# Remove horizontal lines\n",
    "horizontal_kernel = cv2.getStructuringElement(cv2.MORPH_RECT, (40,1))\n",
    "remove_horizontal = cv2.morphologyEx(thresh, cv2.MORPH_OPEN, horizontal_kernel, iterations=2)\n",
    "cnts = cv2.findContours(remove_horizontal, cv2.RETR_EXTERNAL, cv2.CHAIN_APPROX_SIMPLE)\n",
    "cnts = cnts[0] if len(cnts) == 2 else cnts[1]\n",
    "for c in cnts:\n",
    "    cv2.drawContours(result, [c], -1, (255,255,255), 5)\n",
    "\n",
    "# Remove vertical lines\n",
    "vertical_kernel = cv2.getStructuringElement(cv2.MORPH_RECT, (1,40))\n",
    "remove_vertical = cv2.morphologyEx(thresh, cv2.MORPH_OPEN, vertical_kernel, iterations=2)\n",
    "cnts = cv2.findContours(remove_vertical, cv2.RETR_EXTERNAL, cv2.CHAIN_APPROX_SIMPLE)\n",
    "cnts = cnts[0] if len(cnts) == 2 else cnts[1]\n",
    "for c in cnts:\n",
    "    cv2.drawContours(result, [c], -1, (255,255,255), 5)\n",
    "\n",
    "# cv2.imshow('thresh', thresh)\n",
    "# cv2.imshow('result', result)\n",
    "cv2.imwrite('result.png', result)\n",
    "# cv2.waitKey()"
   ]
  }
 ],
 "metadata": {
  "kernelspec": {
   "display_name": "torch-dev",
   "language": "python",
   "name": "python3"
  },
  "language_info": {
   "codemirror_mode": {
    "name": "ipython",
    "version": 3
   },
   "file_extension": ".py",
   "mimetype": "text/x-python",
   "name": "python",
   "nbconvert_exporter": "python",
   "pygments_lexer": "ipython3",
   "version": "3.12.2"
  }
 },
 "nbformat": 4,
 "nbformat_minor": 2
}
