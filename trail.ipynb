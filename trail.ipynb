{
 "cells": [
  {
   "cell_type": "code",
   "execution_count": 6,
   "metadata": {},
   "outputs": [
    {
     "name": "stdout",
     "output_type": "stream",
     "text": [
      "Images saved in the directory: images\n"
     ]
    }
   ],
   "source": [
    "import os\n",
    "from pdf2image import convert_from_path\n",
    "\n",
    "PDF_file = \"pdf/Padilla Nobleza virtuosa test.pdf\"\n",
    "output_dir = \"images\" \n",
    "\n",
    "os.makedirs(output_dir, exist_ok=True)\n",
    "\n",
    "pages = convert_from_path(PDF_file)\n",
    "\n",
    "for i, page in enumerate(pages):\n",
    "    filename = os.path.join(output_dir, f\"page_{i+1}.jpg\")\n",
    "    page.save(filename, 'JPEG')\n",
    "\n",
    "print(\"Images saved in the directory:\", output_dir)\n"
   ]
  },
  {
   "cell_type": "code",
   "execution_count": 13,
   "metadata": {},
   "outputs": [
    {
     "data": {
      "text/plain": [
       "True"
      ]
     },
     "execution_count": 13,
     "metadata": {},
     "output_type": "execute_result"
    }
   ],
   "source": [
    "import cv2\n",
    "\n",
    "image = cv2.imread('images/page_12.jpg')\n",
    "result = image.copy()\n",
    "gray = cv2.cvtColor(image,cv2.COLOR_BGR2GRAY)\n",
    "thresh = cv2.threshold(gray, 0, 255, cv2.THRESH_BINARY_INV + cv2.THRESH_OTSU)[1]\n",
    "\n",
    "# Remove horizontal lines\n",
    "horizontal_kernel = cv2.getStructuringElement(cv2.MORPH_RECT, (40,1))\n",
    "remove_horizontal = cv2.morphologyEx(thresh, cv2.MORPH_OPEN, horizontal_kernel, iterations=2)\n",
    "cnts = cv2.findContours(remove_horizontal, cv2.RETR_EXTERNAL, cv2.CHAIN_APPROX_SIMPLE)\n",
    "cnts = cnts[0] if len(cnts) == 2 else cnts[1]\n",
    "for c in cnts:\n",
    "    cv2.drawContours(result, [c], -1, (255,255,255), 5)\n",
    "\n",
    "# Remove vertical lines\n",
    "vertical_kernel = cv2.getStructuringElement(cv2.MORPH_RECT, (1,40))\n",
    "remove_vertical = cv2.morphologyEx(thresh, cv2.MORPH_OPEN, vertical_kernel, iterations=2)\n",
    "cnts = cv2.findContours(remove_vertical, cv2.RETR_EXTERNAL, cv2.CHAIN_APPROX_SIMPLE)\n",
    "cnts = cnts[0] if len(cnts) == 2 else cnts[1]\n",
    "for c in cnts:\n",
    "    cv2.drawContours(result, [c], -1, (255,255,255), 5)\n",
    "\n",
    "# cv2.imshow('thresh', thresh)\n",
    "# cv2.imshow('result', result)\n",
    "cv2.imwrite('result.png', result)\n",
    "# cv2.waitKey()"
   ]
  },
  {
   "cell_type": "code",
   "execution_count": null,
   "metadata": {},
   "outputs": [],
   "source": [
    "import cv2   \n",
    "# Read the image\n",
    "img = cv2.imread('your file name')\n",
    "print(img.shape)\n",
    "height = img.shape[0]\n",
    "width = img.shape[1]\n",
    "\n",
    "# Cut the image in half\n",
    "width_cutoff = width // 2\n",
    "s1 = img[:, :width_cutoff]\n",
    "s2 = img[:, width_cutoff:]\n",
    "\n",
    "cv2.imwrite(\"file path where to be saved\", s1)\n",
    "cv2.imwrite(\"file path where to be saved\", s2)"
   ]
  },
  {
   "cell_type": "code",
   "execution_count": 29,
   "metadata": {},
   "outputs": [],
   "source": [
    "def cut_half(image_path):\n",
    "    img = cv2.imread(image_path)\n",
    "    height = img.shape[0]\n",
    "    width = img.shape[1]\n",
    "    width_cutoff = width // 2\n",
    "    s1 = img[:, :width_cutoff]\n",
    "    s2 = img[:, width_cutoff:]\n",
    "    return s1, s2"
   ]
  },
  {
   "cell_type": "code",
   "execution_count": 36,
   "metadata": {},
   "outputs": [],
   "source": [
    "import os\n",
    "\n",
    "lis_images = os.listdir('images')\n",
    "\n",
    "lis_images.sort(key=lambda x: int(x.split('_')[1].split('.')[0]))\n",
    "\n",
    "\n",
    "if not os.path.exists('pages'):\n",
    "    os.makedirs('pages')\n",
    "\n",
    "for image in range(len(lis_images)):\n",
    "    s1, s2 = cut_half('images/'+lis_images[image])\n",
    "    cv2.imwrite(f'pages/{image*2}.jpg', s1)\n",
    "    cv2.imwrite(f'pages/{(image*2)+1}.jpg', s2)\n"
   ]
  },
  {
   "cell_type": "code",
   "execution_count": 37,
   "metadata": {},
   "outputs": [
    {
     "name": "stdout",
     "output_type": "stream",
     "text": [
      "['page_1.jpg', 'page_2.jpg', 'page_3.jpg', 'page_4.jpg', 'page_5.jpg', 'page_6.jpg', 'page_7.jpg', 'page_8.jpg', 'page_9.jpg', 'page_10.jpg', 'page_11.jpg', 'page_12.jpg', 'page_13.jpg', 'page_14.jpg', 'page_15.jpg', 'page_16.jpg']\n"
     ]
    }
   ],
   "source": [
    "print(lis_images)"
   ]
  },
  {
   "cell_type": "code",
   "execution_count": 41,
   "metadata": {},
   "outputs": [
    {
     "name": "stdout",
     "output_type": "stream",
     "text": [
      "Horizontal Line - X: 184 Y: 1111 Width: 611 Height: 8\n",
      "Horizontal Line - X: 659 Y: 1066 Width: 94 Height: 1\n",
      "Horizontal Line - X: 540 Y: 1065 Width: 95 Height: 1\n",
      "Horizontal Line - X: 173 Y: 495 Width: 110 Height: 8\n",
      "Horizontal Line - X: 691 Y: 124 Width: 111 Height: 1\n",
      "Horizontal Line - X: 316 Y: 117 Width: 411 Height: 6\n",
      "Horizontal Line - X: 196 Y: 66 Width: 598 Height: 10\n",
      "Horizontal Line - X: 0 Y: 0 Width: 847 Height: 34\n",
      "Vertical Line - X: 799 Y: 351 Width: 18 Height: 760\n",
      "Vertical Line - X: 273 Y: 124 Width: 24 Height: 910\n",
      "Vertical Line - X: 816 Y: 84 Width: 6 Height: 263\n",
      "Vertical Line - X: 161 Y: 80 Width: 27 Height: 1042\n",
      "Vertical Line - X: 0 Y: 0 Width: 23 Height: 1212\n"
     ]
    },
    {
     "data": {
      "text/plain": [
       "True"
      ]
     },
     "execution_count": 41,
     "metadata": {},
     "output_type": "execute_result"
    }
   ],
   "source": [
    "import cv2\n",
    "import math\n",
    "\n",
    "image = cv2.imread('pages/2.jpg')\n",
    "\n",
    "image_height, image_width, _ = image.shape\n",
    "\n",
    "result = image.copy()\n",
    "gray = cv2.cvtColor(image, cv2.COLOR_BGR2GRAY)\n",
    "thresh = cv2.threshold(gray, 0, 255, cv2.THRESH_BINARY_INV + cv2.THRESH_OTSU)[1]\n",
    "\n",
    "# Remove horizontal lines\n",
    "horizontal_kernel = cv2.getStructuringElement(cv2.MORPH_RECT, (40, 1))\n",
    "remove_horizontal = cv2.morphologyEx(thresh, cv2.MORPH_OPEN, horizontal_kernel, iterations=2)\n",
    "cnts = cv2.findContours(remove_horizontal, cv2.RETR_EXTERNAL, cv2.CHAIN_APPROX_SIMPLE)\n",
    "cnts = cnts[0] if len(cnts) == 2 else cnts[1]\n",
    "\n",
    "dist1_0 = math.inf\n",
    "dist1_1 = math.inf\n",
    "\n",
    "final_x1 = 0\n",
    "final_y1 = 0\n",
    "final_x2 = 0\n",
    "final_y2 = 0\n",
    "\n",
    "for c in cnts:\n",
    "    x, y, w, h = cv2.boundingRect(c)\n",
    "    print(\"Horizontal Line - X:\", x, \"Y:\", y, \"Width:\", w, \"Height:\", h)\n",
    "    top_left = x, y\n",
    "    bottom_right = x + w, y + h\n",
    "\n",
    "    diff1_0 = y - image_height//2\n",
    "    diff1_1 = y+h - image_height//2\n",
    "\n",
    "\n",
    "    if diff1_0 < dist1_0:\n",
    "        dist1_0 = diff1_0\n",
    "        final_y1 = y\n",
    "    \n",
    "    elif diff1_1 < dist1_1:\n",
    "        dist1_1 = diff1_1\n",
    "        final_y2 = y+h\n",
    "\n",
    "    cv2.rectangle(result, top_left,bottom_right,(0,0, 255), 5)\n",
    "\n",
    "# Remove vertical lines\n",
    "\n",
    "vertical_kernel = cv2.getStructuringElement(cv2.MORPH_RECT, (1, 40))\n",
    "remove_vertical = cv2.morphologyEx(thresh, cv2.MORPH_OPEN, vertical_kernel, iterations=2)\n",
    "cnts = cv2.findContours(remove_vertical, cv2.RETR_EXTERNAL, cv2.CHAIN_APPROX_SIMPLE)\n",
    "cnts = cnts[0] if len(cnts) == 2 else cnts[1]\n",
    "\n",
    "dist2_0 = math.inf\n",
    "dist2_1 = math.inf\n",
    "\n",
    "for c in cnts:\n",
    "    x, y, w, h = cv2.boundingRect(c)\n",
    "    print(\"Vertical Line - X:\", x, \"Y:\", y, \"Width:\", w, \"Height:\", h)\n",
    "    top_left = x, y\n",
    "    bottom_right = x + w, y + h\n",
    "\n",
    "    diff1 = x - image_width//2\n",
    "    diff2 = x+w - image_width//2\n",
    "\n",
    "    if diff1 < dist2_0:\n",
    "        dist2_0 = diff1\n",
    "        final_x1 = x\n",
    "\n",
    "    elif diff2 < dist2_1:\n",
    "        dist2_1 = diff2\n",
    "        final_x2 = x+w\n",
    "\n",
    "    cv2.rectangle(result, top_left,bottom_right,(0,0, 255), 5)\n",
    "\n",
    "cv2.imwrite('resusdfgslt.png', result)\n"
   ]
  },
  {
   "cell_type": "code",
   "execution_count": 42,
   "metadata": {},
   "outputs": [
    {
     "data": {
      "text/plain": [
       "True"
      ]
     },
     "execution_count": 42,
     "metadata": {},
     "output_type": "execute_result"
    }
   ],
   "source": [
    "final_x1_y1 = (final_x1, final_y1)\n",
    "final_x2_y2 = (final_x2, final_y2)\n",
    "\n",
    "result1 = image.copy()\n",
    "\n",
    "cv2.rectangle(result1, final_x1_y1, final_x2_y2, (0, 255, 0), 5)\n",
    "\n",
    "cv2.imwrite('resulletst1.png', result1)"
   ]
  },
  {
   "cell_type": "code",
   "execution_count": 1,
   "metadata": {},
   "outputs": [
    {
     "name": "stdout",
     "output_type": "stream",
     "text": [
      "(1206, 1674, 3)\n"
     ]
    },
    {
     "data": {
      "text/plain": [
       "True"
      ]
     },
     "execution_count": 1,
     "metadata": {},
     "output_type": "execute_result"
    }
   ],
   "source": [
    "x,y = 610,1186\n",
    "\n",
    "\n",
    "import cv2\n",
    "import numpy as np\n",
    "\n",
    "\n",
    "image = cv2.imread('images/page_16.jpg')\n",
    "\n",
    "print(image.shape)\n",
    "\n",
    "image = cv2.circle(image, (x,y), radius=0, color=(0, 0, 255), thickness=-1)\n",
    "\n",
    "cv2.imwrite('rpoint.png', image)"
   ]
  }
 ],
 "metadata": {
  "kernelspec": {
   "display_name": "torch-dev",
   "language": "python",
   "name": "python3"
  },
  "language_info": {
   "codemirror_mode": {
    "name": "ipython",
    "version": 3
   },
   "file_extension": ".py",
   "mimetype": "text/x-python",
   "name": "python",
   "nbconvert_exporter": "python",
   "pygments_lexer": "ipython3",
   "version": "3.12.2"
  }
 },
 "nbformat": 4,
 "nbformat_minor": 2
}
